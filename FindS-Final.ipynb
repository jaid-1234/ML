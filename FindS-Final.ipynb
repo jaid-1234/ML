{
 "cells": [
  {
   "cell_type": "code",
   "execution_count": 3,
   "id": "4f48c0f7",
   "metadata": {},
   "outputs": [
    {
     "name": "stdout",
     "output_type": "stream",
     "text": [
      "  Experience  Qualification     Skill   Age  Hired\n",
      "0        Yes         Masters   Python    30    Yes\n",
      "1        Yes       Bachelors   Python    25    Yes\n",
      "2         No       Bachelors     Java    28     No\n",
      "3        Yes         Masters     Java    40    Yes\n",
      "4         No         Masters   Python    35     No\n",
      "['Yes' 'Masters' ' Python' 30]\n",
      "Most Specific Hypothesis: ['Yes' '?' '?' '?']\n"
     ]
    }
   ],
   "source": [
    " import pandas as pd\n",
    "\n",
    "data = pd.read_csv(r\"finds.csv\")\n",
    "print(data)\n",
    "    \n",
    "def find_s_algorithm(data):\n",
    "    attributes = data.iloc[:, :-1].values  \n",
    "    target = data.iloc[:, -1].values  \n",
    "    for i in range(len(target)):\n",
    "        if target[i] == \"Yes\":  \n",
    "            hypothesis = attributes[i].copy()\n",
    "            print(hypothesis)\n",
    "            break\n",
    "    for i in range(len(target)):\n",
    "        if target[i] == \"Yes\":\n",
    "            for j in range(len(hypothesis)):\n",
    "                if hypothesis[j] != attributes[i][j]:\n",
    "                    hypothesis[j] = '?' \n",
    "    \n",
    "    return hypothesis\n",
    "final_hypothesis = find_s_algorithm(data)\n",
    "print(\"Most Specific Hypothesis:\", final_hypothesis)"
   ]
  },
  {
   "cell_type": "code",
   "execution_count": null,
   "id": "64f1ef15",
   "metadata": {},
   "outputs": [],
   "source": []
  },
  {
   "cell_type": "code",
   "execution_count": null,
   "id": "386d4099",
   "metadata": {},
   "outputs": [],
   "source": []
  },
  {
   "cell_type": "code",
   "execution_count": null,
   "id": "86010762",
   "metadata": {},
   "outputs": [],
   "source": []
  }
 ],
 "metadata": {
  "kernelspec": {
   "display_name": "Python 3 (ipykernel)",
   "language": "python",
   "name": "python3"
  },
  "language_info": {
   "codemirror_mode": {
    "name": "ipython",
    "version": 3
   },
   "file_extension": ".py",
   "mimetype": "text/x-python",
   "name": "python",
   "nbconvert_exporter": "python",
   "pygments_lexer": "ipython3",
   "version": "3.12.7"
  }
 },
 "nbformat": 4,
 "nbformat_minor": 5
}
